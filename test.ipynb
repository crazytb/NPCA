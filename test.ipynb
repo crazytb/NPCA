{
 "cells": [
  {
   "cell_type": "code",
   "execution_count": 3,
   "id": "b3a08c38",
   "metadata": {},
   "outputs": [
    {
     "data": {
      "text/plain": [
       "[15, 31, 63, 127, 255, 511, 1023]"
      ]
     },
     "execution_count": 3,
     "metadata": {},
     "output_type": "execute_result"
    }
   ],
   "source": [
    "import numpy as np\n",
    "\n",
    "CONTENTION_WINDOW = [2**(i+4)-1 for i in range(7)]  # CW_min = 15, CW_max = 1023\n",
    "CONTENTION_WINDOW"
   ]
  },
  {
   "cell_type": "code",
   "execution_count": 16,
   "id": "882aec44",
   "metadata": {},
   "outputs": [
    {
     "ename": "ValueError",
     "evalue": "Invalid bo_stage=7. Must be between 0 and 6.",
     "output_type": "error",
     "traceback": [
      "\u001b[0;31m---------------------------------------------------------------------------\u001b[0m",
      "\u001b[0;31mIndexError\u001b[0m                                Traceback (most recent call last)",
      "Cell \u001b[0;32mIn[16], line 12\u001b[0m, in \u001b[0;36mget_new_backoff\u001b[0;34m(bo_stage)\u001b[0m\n\u001b[1;32m     11\u001b[0m \u001b[38;5;28;01mtry\u001b[39;00m:\n\u001b[0;32m---> 12\u001b[0m     cw \u001b[38;5;241m=\u001b[39m \u001b[43mCONTENTION_WINDOW\u001b[49m\u001b[43m[\u001b[49m\u001b[43mbo_stage\u001b[49m\u001b[43m]\u001b[49m\n\u001b[1;32m     13\u001b[0m \u001b[38;5;28;01mexcept\u001b[39;00m \u001b[38;5;167;01mIndexError\u001b[39;00m:\n",
      "\u001b[0;31mIndexError\u001b[0m: list index out of range",
      "\nDuring handling of the above exception, another exception occurred:\n",
      "\u001b[0;31mValueError\u001b[0m                                Traceback (most recent call last)",
      "Cell \u001b[0;32mIn[16], line 18\u001b[0m\n\u001b[1;32m     14\u001b[0m         \u001b[38;5;28;01mraise\u001b[39;00m \u001b[38;5;167;01mValueError\u001b[39;00m(\u001b[38;5;124mf\u001b[39m\u001b[38;5;124m\"\u001b[39m\u001b[38;5;124mInvalid bo_stage=\u001b[39m\u001b[38;5;132;01m{\u001b[39;00mbo_stage\u001b[38;5;132;01m}\u001b[39;00m\u001b[38;5;124m. Must be between 0 and \u001b[39m\u001b[38;5;132;01m{\u001b[39;00m\u001b[38;5;28mlen\u001b[39m(CONTENTION_WINDOW)\u001b[38;5;250m \u001b[39m\u001b[38;5;241m-\u001b[39m\u001b[38;5;250m \u001b[39m\u001b[38;5;241m1\u001b[39m\u001b[38;5;132;01m}\u001b[39;00m\u001b[38;5;124m.\u001b[39m\u001b[38;5;124m\"\u001b[39m)\n\u001b[1;32m     16\u001b[0m     \u001b[38;5;28;01mreturn\u001b[39;00m np\u001b[38;5;241m.\u001b[39mrandom\u001b[38;5;241m.\u001b[39mrandint(\u001b[38;5;241m0\u001b[39m, cw \u001b[38;5;241m+\u001b[39m \u001b[38;5;241m1\u001b[39m)\n\u001b[0;32m---> 18\u001b[0m \u001b[43mget_new_backoff\u001b[49m\u001b[43m(\u001b[49m\u001b[38;5;241;43m7\u001b[39;49m\u001b[43m)\u001b[49m\n",
      "Cell \u001b[0;32mIn[16], line 14\u001b[0m, in \u001b[0;36mget_new_backoff\u001b[0;34m(bo_stage)\u001b[0m\n\u001b[1;32m     12\u001b[0m     cw \u001b[38;5;241m=\u001b[39m CONTENTION_WINDOW[bo_stage]\n\u001b[1;32m     13\u001b[0m \u001b[38;5;28;01mexcept\u001b[39;00m \u001b[38;5;167;01mIndexError\u001b[39;00m:\n\u001b[0;32m---> 14\u001b[0m     \u001b[38;5;28;01mraise\u001b[39;00m \u001b[38;5;167;01mValueError\u001b[39;00m(\u001b[38;5;124mf\u001b[39m\u001b[38;5;124m\"\u001b[39m\u001b[38;5;124mInvalid bo_stage=\u001b[39m\u001b[38;5;132;01m{\u001b[39;00mbo_stage\u001b[38;5;132;01m}\u001b[39;00m\u001b[38;5;124m. Must be between 0 and \u001b[39m\u001b[38;5;132;01m{\u001b[39;00m\u001b[38;5;28mlen\u001b[39m(CONTENTION_WINDOW)\u001b[38;5;250m \u001b[39m\u001b[38;5;241m-\u001b[39m\u001b[38;5;250m \u001b[39m\u001b[38;5;241m1\u001b[39m\u001b[38;5;132;01m}\u001b[39;00m\u001b[38;5;124m.\u001b[39m\u001b[38;5;124m\"\u001b[39m)\n\u001b[1;32m     16\u001b[0m \u001b[38;5;28;01mreturn\u001b[39;00m np\u001b[38;5;241m.\u001b[39mrandom\u001b[38;5;241m.\u001b[39mrandint(\u001b[38;5;241m0\u001b[39m, cw \u001b[38;5;241m+\u001b[39m \u001b[38;5;241m1\u001b[39m)\n",
      "\u001b[0;31mValueError\u001b[0m: Invalid bo_stage=7. Must be between 0 and 6."
     ]
    }
   ],
   "source": [
    "def get_new_backoff(bo_stage: int) -> int:\n",
    "    \"\"\"\n",
    "    Return a random backoff counter based on the backoff stage.\n",
    "\n",
    "    Parameters:\n",
    "        bo_stage (int): Backoff stage, must be between 0 and 6.\n",
    "\n",
    "    Returns:\n",
    "        int: Random backoff counter in range [0, CW[bo_stage]]\n",
    "    \"\"\"\n",
    "    try:\n",
    "        cw = CONTENTION_WINDOW[bo_stage]\n",
    "    except IndexError:\n",
    "        raise ValueError(f\"Invalid bo_stage={bo_stage}. Must be between 0 and {len(CONTENTION_WINDOW) - 1}.\")\n",
    "    \n",
    "    return np.random.randint(0, cw + 1)\n",
    "\n",
    "get_new_backoff(7)"
   ]
  }
 ],
 "metadata": {
  "kernelspec": {
   "display_name": "random_access",
   "language": "python",
   "name": "python3"
  },
  "language_info": {
   "codemirror_mode": {
    "name": "ipython",
    "version": 3
   },
   "file_extension": ".py",
   "mimetype": "text/x-python",
   "name": "python",
   "nbconvert_exporter": "python",
   "pygments_lexer": "ipython3",
   "version": "3.10.18"
  }
 },
 "nbformat": 4,
 "nbformat_minor": 5
}
